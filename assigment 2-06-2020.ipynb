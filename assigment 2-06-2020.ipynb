{
 "cells": [
  {
   "cell_type": "markdown",
   "metadata": {},
   "source": [
    "## cse-221710305019-siddharth"
   ]
  },
  {
   "cell_type": "code",
   "execution_count": null,
   "metadata": {},
   "outputs": [
    {
     "name": "stdout",
     "output_type": "stream",
     "text": [
      "debug banana\n",
      "9\n",
      "❤❤❤❤❤❤❤❤❤\n",
      "guess a letter or a wordb\n",
      "8\n",
      "❤❤❤❤❤❤❤❤\n",
      "guess a letter or a wordt\n",
      "7\n",
      "❤❤❤❤❤❤❤\n",
      "guess a letter or a words\n",
      "6\n",
      "❤❤❤❤❤❤\n"
     ]
    }
   ],
   "source": [
    "import random\n",
    "lives =9\n",
    "words=['hello','earth','banana','burger','teeth','shirt']\n",
    "secret_word = random.choice(words)\n",
    "print(\"debug\",secret_word)\n",
    "\n",
    "clue=list('?????')\n",
    "heart_symbol=  u'\\u2764'\n",
    "guessed_word_corretly = False\n",
    "\n",
    "def update_clue(guessed_letter,secret_word,clue):\n",
    "    for index in secret_word:\n",
    "        if guessed_letter==secret_word[index]:\n",
    "            clue[index]=guessed_letter\n",
    "            \n",
    "            \n",
    "while lives>0:\n",
    "    print(lives)\n",
    "    print(lives*heart_symbol)\n",
    "    guess=input('guess a letter or a word')\n",
    "    lives = lives -1\n"
   ]
  },
  {
   "cell_type": "code",
   "execution_count": null,
   "metadata": {},
   "outputs": [],
   "source": []
  },
  {
   "cell_type": "code",
   "execution_count": null,
   "metadata": {},
   "outputs": [],
   "source": []
  }
 ],
 "metadata": {
  "kernelspec": {
   "display_name": "Python 3",
   "language": "python",
   "name": "python3"
  },
  "language_info": {
   "codemirror_mode": {
    "name": "ipython",
    "version": 3
   },
   "file_extension": ".py",
   "mimetype": "text/x-python",
   "name": "python",
   "nbconvert_exporter": "python",
   "pygments_lexer": "ipython3",
   "version": "3.7.4"
  }
 },
 "nbformat": 4,
 "nbformat_minor": 2
}

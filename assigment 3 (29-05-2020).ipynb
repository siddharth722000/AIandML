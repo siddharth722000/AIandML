{
 "cells": [
  {
   "cell_type": "markdown",
   "metadata": {},
   "source": [
    "## cse-221710305019-siddharth"
   ]
  },
  {
   "cell_type": "code",
   "execution_count": 1,
   "metadata": {},
   "outputs": [
    {
     "data": {
      "text/plain": [
       "40320"
      ]
     },
     "execution_count": 1,
     "metadata": {},
     "output_type": "execute_result"
    }
   ],
   "source": [
    "#Q1)Create a function to find Factorial of a number using Recursion\n",
    "\n",
    "def rfactorial(n):\n",
    "    if(n==1):\n",
    "        return 1\n",
    "    else:\n",
    "        return n*rfactorial(n-1)\n",
    "    \n",
    "rfactorial(8)           "
   ]
  },
  {
   "cell_type": "code",
   "execution_count": 2,
   "metadata": {},
   "outputs": [
    {
     "name": "stdout",
     "output_type": "stream",
     "text": [
      "enter value of n:8\n",
      "0,1,1,2,3,5,8,13,"
     ]
    },
    {
     "data": {
      "text/plain": [
       "3"
      ]
     },
     "execution_count": 2,
     "metadata": {},
     "output_type": "execute_result"
    }
   ],
   "source": [
    "#Q2)Create a function and display ‘n’ Fibonacci numbers using Recursion\n",
    "\n",
    "def nfib(n):\n",
    "    if(n==1)or(n==0):\n",
    "        return n\n",
    "    else:\n",
    "        return (nfib(n-1)+nfib(n-2))\n",
    "k=int(input(\"enter value of n:\"))\n",
    "for i in range(k):\n",
    "    print(nfib(i),end=\",\")\n",
    "\n",
    "nfib(4)    "
   ]
  },
  {
   "cell_type": "code",
   "execution_count": 3,
   "metadata": {},
   "outputs": [
    {
     "name": "stdout",
     "output_type": "stream",
     "text": [
      "10\n"
     ]
    }
   ],
   "source": [
    "#Q3)Print sum of list of elements without using sum() function\n",
    "\n",
    "def k_list(elements):   \n",
    "    s = 0 \n",
    "    for i in elements:\n",
    "        s += i\n",
    "    print (s)\n",
    "\n",
    "k_list([2,3,4,1])"
   ]
  },
  {
   "cell_type": "code",
   "execution_count": 4,
   "metadata": {},
   "outputs": [
    {
     "name": "stdout",
     "output_type": "stream",
     "text": [
      "2,4,6,8,"
     ]
    }
   ],
   "source": [
    "#Q4)print only even numbers from the list\n",
    "\n",
    "def p_list(kites):\n",
    "    for z in kites:\n",
    "        if(z%2==0):\n",
    "            print(z,end=\",\")\n",
    "p_list([1,2,3,4,6,7,8])       "
   ]
  },
  {
   "cell_type": "code",
   "execution_count": 5,
   "metadata": {},
   "outputs": [
    {
     "data": {
      "text/plain": [
       "3"
      ]
     },
     "execution_count": 5,
     "metadata": {},
     "output_type": "execute_result"
    }
   ],
   "source": [
    "#Q5)Write a Python program to get the smallest number from a list and display index of smallest element of the list\n",
    "\n",
    "def c_list(cars):\n",
    "    for i in cars:\n",
    "        p=min(cars)\n",
    "        return(p)\n",
    "    return(cars.index(p))\n",
    "\n",
    "c_list([5,6,8,3,9])"
   ]
  },
  {
   "cell_type": "code",
   "execution_count": 6,
   "metadata": {},
   "outputs": [
    {
     "name": "stdout",
     "output_type": "stream",
     "text": [
      "enter string:wow\n",
      "Yes it is palindrome\n"
     ]
    }
   ],
   "source": [
    "#Q6)Write a Python function that checks whether a passed string is palindrome or not\n",
    "\n",
    "def Palin_check(s): \n",
    "    return s == s[::-1] \n",
    " \n",
    "s = input(\"enter string:\")\n",
    "ans = Palin_check(s) \n",
    "  \n",
    "if ans: \n",
    "    print(\"Yes it is palindrome\") \n",
    "else: \n",
    "    print(\"No its not a palindrome\") \n",
    "    "
   ]
  },
  {
   "cell_type": "code",
   "execution_count": 7,
   "metadata": {},
   "outputs": [
    {
     "name": "stdout",
     "output_type": "stream",
     "text": [
      "enter number of elements:8\n",
      "enter value:1\n",
      "enter value:2\n",
      "enter value:3\n",
      "enter value:4\n",
      "enter value:5\n",
      "enter value:6\n",
      "enter value:7\n",
      "enter value:8\n",
      "enter value:9\n",
      "[1, 2, 3, 4, 5, 6, 7, 8, 9]\n",
      "Number of even numbers: 4\n",
      "Number of odd numbers: 5\n"
     ]
    }
   ],
   "source": [
    "#Q7)Write a Python program to count the number of even and odd numbers from a series of numbers. \n",
    "#Sample numbers : numbers = [1, 2, 3, 4, 5, 6, 7, 8, 9]\n",
    "#Expected Output :\n",
    "#Number of even numbers : 4\n",
    "#Number of odd numbers : 5\n",
    "\n",
    "list1=[]\n",
    "e=0\n",
    "o=0\n",
    "n=int(input(\"enter number of elements:\"))\n",
    "for i in range(0,n+1):\n",
    "    z=int(input(\"enter value:\"))#we are taking list elements with user\n",
    "    list1.append(z)\n",
    "print(list1) \n",
    "for p in list1:\n",
    "    if(p%2==0):\n",
    "        e+=1\n",
    "    else:\n",
    "        o+=1\n",
    "print(\"Number of even numbers:\",e)\n",
    "print(\"Number of odd numbers:\",o)"
   ]
  },
  {
   "cell_type": "code",
   "execution_count": 8,
   "metadata": {},
   "outputs": [
    {
     "name": "stdout",
     "output_type": "stream",
     "text": [
      "0 1 2 4 5 "
     ]
    }
   ],
   "source": [
    "#Q8)Write a Python program that prints all the numbers from 0 to 6 except 3 and 6.\n",
    "#Note : Use 'continue' statement.\n",
    "#Expected Output : 0 1 2 4 5\n",
    "\n",
    "for r in range(0,7):\n",
    "    if r==3 or r==6:\n",
    "        continue\n",
    "    print(r,end=\" \")    \n"
   ]
  },
  {
   "cell_type": "code",
   "execution_count": 9,
   "metadata": {},
   "outputs": [
    {
     "name": "stdout",
     "output_type": "stream",
     "text": [
      "4 is not a prime number\n",
      "5 is a prime number\n",
      "9 is not a prime number\n",
      "29 is a prime number\n"
     ]
    }
   ],
   "source": [
    "#Q9)Write a python function to check whether the given number is prime or not\n",
    "\n",
    "def prime_check(n):\n",
    "    c=0\n",
    "    for i in range(1,n):\n",
    "        if(n%i==0):\n",
    "            c+=1\n",
    "    if(c>1):\n",
    "        print(n,\"is not a prime number\")\n",
    "    else:\n",
    "        print(n,\"is a prime number\")\n",
    "    \n",
    "prime_check(4)   \n",
    "prime_check(5)\n",
    "prime_check(9)\n",
    "prime_check(29)\n",
    "            "
   ]
  },
  {
   "cell_type": "code",
   "execution_count": 10,
   "metadata": {},
   "outputs": [
    {
     "name": "stdout",
     "output_type": "stream",
     "text": [
      "12\n",
      "adam number\n"
     ]
    }
   ],
   "source": [
    "#Q10)Write a python function to check whether the given number is Adam number or not\n",
    "#Example: \n",
    "#Input : 12\n",
    "#Output : Adam Number\n",
    "\n",
    "#Explanation: 12*12 = 144\n",
    "#Reverse of 12 is 21 → 21*21 =441\n",
    "#Reverse of 144 == 441\n",
    "\n",
    "n =input()\n",
    "reverse=n[::-1]\n",
    "n_sqr=int(n)**2\n",
    "reverse_sqr=int(reverse )**2\n",
    "if int(n_sqr )==int(str(reverse_sqr)[::-1]):\n",
    "   print(\"adam number\")\n",
    "else:\n",
    "   print(\"not an adam number\")"
   ]
  },
  {
   "cell_type": "code",
   "execution_count": null,
   "metadata": {},
   "outputs": [],
   "source": []
  }
 ],
 "metadata": {
  "kernelspec": {
   "display_name": "Python 3",
   "language": "python",
   "name": "python3"
  },
  "language_info": {
   "codemirror_mode": {
    "name": "ipython",
    "version": 3
   },
   "file_extension": ".py",
   "mimetype": "text/x-python",
   "name": "python",
   "nbconvert_exporter": "python",
   "pygments_lexer": "ipython3",
   "version": "3.7.4"
  }
 },
 "nbformat": 4,
 "nbformat_minor": 2
}

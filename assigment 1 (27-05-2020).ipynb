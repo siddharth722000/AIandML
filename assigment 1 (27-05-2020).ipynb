{
 "cells": [
  {
   "cell_type": "code",
   "execution_count": 2,
   "metadata": {},
   "outputs": [
    {
     "name": "stdout",
     "output_type": "stream",
     "text": [
      "enter number of rows5\n",
      "* \n",
      "* * \n",
      "* * * \n",
      "* * * * \n",
      "* * * * * \n"
     ]
    }
   ],
   "source": [
    "#1generate patter\n",
    "rows = int(input(\"enter number of rows\"))\n",
    "for i in range(0,rows):\n",
    "    for j in range(0,i+1):\n",
    "        print(\"*\",end=' ')\n",
    "        \n",
    "    print(\"\\r\")    "
   ]
  },
  {
   "cell_type": "code",
   "execution_count": 4,
   "metadata": {},
   "outputs": [
    {
     "name": "stdout",
     "output_type": "stream",
     "text": [
      "enter n vallue7\n",
      "7 x 1 = 7\n",
      "7 x 2 = 14\n",
      "7 x 3 = 21\n",
      "7 x 4 = 28\n",
      "7 x 5 = 35\n",
      "7 x 6 = 42\n",
      "7 x 7 = 49\n",
      "7 x 8 = 56\n",
      "7 x 9 = 63\n",
      "7 x 10 = 70\n"
     ]
    }
   ],
   "source": [
    "#2 display multiplication table of k\n",
    "n=int(input(\"enter n vallue\"))\n",
    "for i in range(1, 11):\n",
    "    print(n,'x',i,'=',n*i)"
   ]
  },
  {
   "cell_type": "code",
   "execution_count": 7,
   "metadata": {},
   "outputs": [
    {
     "name": "stdout",
     "output_type": "stream",
     "text": [
      "enter a1\n",
      "enter b-5\n",
      "enter c6\n",
      "the roots are  (3+0j) (2+0j)\n"
     ]
    }
   ],
   "source": [
    "#3. roots of quadratic equation\n",
    "\n",
    "import cmath\n",
    "a=int(input(\"enter a\"))\n",
    "b=int(input(\"enter b\"))\n",
    "c=int(input(\"enter c\"))\n",
    "d=((b**2)-(4*a*c))\n",
    "root1=((-b + cmath.sqrt(d))/2*a)\n",
    "root2=((-b - cmath.sqrt(d))/2*a)\n",
    "print(\"the roots are \",root1,root2)\n"
   ]
  },
  {
   "cell_type": "code",
   "execution_count": 10,
   "metadata": {},
   "outputs": [],
   "source": [
    "#4. convert a decimal number to binary\n",
    "def  DecimalToBinary(num):\n",
    "        if num > 1:\n",
    "            DecimalToBinary(num // 2)\n",
    "            print (num % 2,end=\" \")"
   ]
  },
  {
   "cell_type": "code",
   "execution_count": 12,
   "metadata": {},
   "outputs": [
    {
     "name": "stdout",
     "output_type": "stream",
     "text": [
      "1 1 "
     ]
    }
   ],
   "source": [
    "DecimalToBinary(7)"
   ]
  },
  {
   "cell_type": "code",
   "execution_count": 13,
   "metadata": {},
   "outputs": [
    {
     "name": "stdout",
     "output_type": "stream",
     "text": [
      "enter  n5\n",
      "1 1 2 3 5 "
     ]
    }
   ],
   "source": [
    "#5. generate first n number of fibanocci number\n",
    "n=int(input(\"enter  n\"))\n",
    "f1 = 0\n",
    "f2 = 1\n",
    "for x in range(0,n):\n",
    "    print(f2, end =  \" \")\n",
    "    next = f1 + f2\n",
    "    f1 = f2\n",
    "    f2 = next"
   ]
  },
  {
   "cell_type": "code",
   "execution_count": null,
   "metadata": {},
   "outputs": [],
   "source": []
  }
 ],
 "metadata": {
  "kernelspec": {
   "display_name": "Python 3",
   "language": "python",
   "name": "python3"
  },
  "language_info": {
   "codemirror_mode": {
    "name": "ipython",
    "version": 3
   },
   "file_extension": ".py",
   "mimetype": "text/x-python",
   "name": "python",
   "nbconvert_exporter": "python",
   "pygments_lexer": "ipython3",
   "version": "3.7.4"
  }
 },
 "nbformat": 4,
 "nbformat_minor": 2
}

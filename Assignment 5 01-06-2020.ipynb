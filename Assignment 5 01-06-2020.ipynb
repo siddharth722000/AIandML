{
 "cells": [
  {
   "cell_type": "markdown",
   "metadata": {},
   "source": [
    "## CSE-221710305019-siddharth venkat\n"
   ]
  },
  {
   "cell_type": "code",
   "execution_count": null,
   "metadata": {},
   "outputs": [
    {
     "name": "stdout",
     "output_type": "stream",
     "text": [
      "New password is:\n",
      "charmingBottle27)\n",
      "type \"again\" for new password\n",
      "\n"
     ]
    }
   ],
   "source": [
    "import random\n",
    "\n",
    "while(1):\n",
    "    adjec=['rough','distinct','charming','shiny','brave']\n",
    "    nou=['Car', 'tree', 'Bottle', 'mark', 'Chair', 'Ball']\n",
    "    special=[',','.','?','!','(',')']\n",
    "\n",
    "    print(\"New password is:\\n\"+\n",
    "    random.choice(adjec)+random.choice(nou)+\n",
    "    str(random.randint(0,101))+random.choice(special)+\n",
    "    \"\\ntype \\\"again\\\" for new password\\n\")\n",
    "\n",
    "    a=input(\"enter string:\")\n",
    "    if(a!='again'):\n",
    "        break"
   ]
  },
  {
   "cell_type": "code",
   "execution_count": null,
   "metadata": {},
   "outputs": [],
   "source": []
  },
  {
   "cell_type": "code",
   "execution_count": null,
   "metadata": {},
   "outputs": [],
   "source": []
  },
  {
   "cell_type": "code",
   "execution_count": null,
   "metadata": {},
   "outputs": [],
   "source": []
  }
 ],
 "metadata": {
  "kernelspec": {
   "display_name": "Python 3",
   "language": "python",
   "name": "python3"
  },
  "language_info": {
   "codemirror_mode": {
    "name": "ipython",
    "version": 3
   },
   "file_extension": ".py",
   "mimetype": "text/x-python",
   "name": "python",
   "nbconvert_exporter": "python",
   "pygments_lexer": "ipython3",
   "version": "3.7.4"
  }
 },
 "nbformat": 4,
 "nbformat_minor": 2
}

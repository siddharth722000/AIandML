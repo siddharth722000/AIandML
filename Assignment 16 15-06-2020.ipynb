{
 "cells": [
  {
   "cell_type": "markdown",
   "metadata": {},
   "source": [
    "# CSE-221710305019-siddharth venkat"
   ]
  },
  {
   "cell_type": "markdown",
   "metadata": {},
   "source": [
    "# Data cleansing \n",
    "- check how many rows and columns are there\n",
    "- what are the columns names\n",
    "- what are are the row labels\n"
   ]
  },
  {
   "cell_type": "code",
   "execution_count": 1,
   "metadata": {},
   "outputs": [],
   "source": [
    "import pandas as pd\n",
    "import numpy as np\n",
    "import matplotlib.pyplot\n",
    "import sklearn"
   ]
  },
  {
   "cell_type": "code",
   "execution_count": 2,
   "metadata": {},
   "outputs": [
    {
     "data": {
      "text/html": [
       "<div>\n",
       "<style scoped>\n",
       "    .dataframe tbody tr th:only-of-type {\n",
       "        vertical-align: middle;\n",
       "    }\n",
       "\n",
       "    .dataframe tbody tr th {\n",
       "        vertical-align: top;\n",
       "    }\n",
       "\n",
       "    .dataframe thead th {\n",
       "        text-align: right;\n",
       "    }\n",
       "</style>\n",
       "<table border=\"1\" class=\"dataframe\">\n",
       "  <thead>\n",
       "    <tr style=\"text-align: right;\">\n",
       "      <th></th>\n",
       "      <th>0</th>\n",
       "      <th>1</th>\n",
       "      <th>2</th>\n",
       "      <th>3</th>\n",
       "      <th>4</th>\n",
       "      <th>5</th>\n",
       "    </tr>\n",
       "  </thead>\n",
       "  <tbody>\n",
       "    <tr>\n",
       "      <td>0</td>\n",
       "      <td>2018-01-01 00:01:01</td>\n",
       "      <td>read</td>\n",
       "      <td>country_7</td>\n",
       "      <td>2458151261</td>\n",
       "      <td>SEO</td>\n",
       "      <td>North America</td>\n",
       "    </tr>\n",
       "    <tr>\n",
       "      <td>1</td>\n",
       "      <td>2018-01-01 00:03:20</td>\n",
       "      <td>read</td>\n",
       "      <td>country_7</td>\n",
       "      <td>2458151262</td>\n",
       "      <td>SEO</td>\n",
       "      <td>South America</td>\n",
       "    </tr>\n",
       "    <tr>\n",
       "      <td>2</td>\n",
       "      <td>2018-01-01 00:04:01</td>\n",
       "      <td>read</td>\n",
       "      <td>country_7</td>\n",
       "      <td>2458151263</td>\n",
       "      <td>AdWords</td>\n",
       "      <td>Africa</td>\n",
       "    </tr>\n",
       "    <tr>\n",
       "      <td>3</td>\n",
       "      <td>2018-01-01 00:04:02</td>\n",
       "      <td>read</td>\n",
       "      <td>country_7</td>\n",
       "      <td>2458151264</td>\n",
       "      <td>AdWords</td>\n",
       "      <td>Europe</td>\n",
       "    </tr>\n",
       "    <tr>\n",
       "      <td>4</td>\n",
       "      <td>2018-01-01 00:05:03</td>\n",
       "      <td>read</td>\n",
       "      <td>country_8</td>\n",
       "      <td>2458151265</td>\n",
       "      <td>Reddit</td>\n",
       "      <td>North America</td>\n",
       "    </tr>\n",
       "    <tr>\n",
       "      <td>...</td>\n",
       "      <td>...</td>\n",
       "      <td>...</td>\n",
       "      <td>...</td>\n",
       "      <td>...</td>\n",
       "      <td>...</td>\n",
       "      <td>...</td>\n",
       "    </tr>\n",
       "    <tr>\n",
       "      <td>1790</td>\n",
       "      <td>2018-01-01 23:57:14</td>\n",
       "      <td>read</td>\n",
       "      <td>country_2</td>\n",
       "      <td>2458153051</td>\n",
       "      <td>AdWords</td>\n",
       "      <td>North America</td>\n",
       "    </tr>\n",
       "    <tr>\n",
       "      <td>1791</td>\n",
       "      <td>2018-01-01 23:58:33</td>\n",
       "      <td>read</td>\n",
       "      <td>country_8</td>\n",
       "      <td>2458153052</td>\n",
       "      <td>SEO</td>\n",
       "      <td>Asia</td>\n",
       "    </tr>\n",
       "    <tr>\n",
       "      <td>1792</td>\n",
       "      <td>2018-01-01 23:59:36</td>\n",
       "      <td>read</td>\n",
       "      <td>country_6</td>\n",
       "      <td>2458153053</td>\n",
       "      <td>Reddit</td>\n",
       "      <td>Asia</td>\n",
       "    </tr>\n",
       "    <tr>\n",
       "      <td>1793</td>\n",
       "      <td>2018-01-01 23:59:36</td>\n",
       "      <td>read</td>\n",
       "      <td>country_7</td>\n",
       "      <td>2458153054</td>\n",
       "      <td>AdWords</td>\n",
       "      <td>Europe</td>\n",
       "    </tr>\n",
       "    <tr>\n",
       "      <td>1794</td>\n",
       "      <td>2018-01-01 23:59:38</td>\n",
       "      <td>read</td>\n",
       "      <td>country_5</td>\n",
       "      <td>2458153055</td>\n",
       "      <td>Reddit</td>\n",
       "      <td>Asia</td>\n",
       "    </tr>\n",
       "  </tbody>\n",
       "</table>\n",
       "<p>1795 rows × 6 columns</p>\n",
       "</div>"
      ],
      "text/plain": [
       "                        0     1          2           3        4              5\n",
       "0     2018-01-01 00:01:01  read  country_7  2458151261      SEO  North America\n",
       "1     2018-01-01 00:03:20  read  country_7  2458151262      SEO  South America\n",
       "2     2018-01-01 00:04:01  read  country_7  2458151263  AdWords         Africa\n",
       "3     2018-01-01 00:04:02  read  country_7  2458151264  AdWords         Europe\n",
       "4     2018-01-01 00:05:03  read  country_8  2458151265   Reddit  North America\n",
       "...                   ...   ...        ...         ...      ...            ...\n",
       "1790  2018-01-01 23:57:14  read  country_2  2458153051  AdWords  North America\n",
       "1791  2018-01-01 23:58:33  read  country_8  2458153052      SEO           Asia\n",
       "1792  2018-01-01 23:59:36  read  country_6  2458153053   Reddit           Asia\n",
       "1793  2018-01-01 23:59:36  read  country_7  2458153054  AdWords         Europe\n",
       "1794  2018-01-01 23:59:38  read  country_5  2458153055   Reddit           Asia\n",
       "\n",
       "[1795 rows x 6 columns]"
      ]
     },
     "execution_count": 2,
     "metadata": {},
     "output_type": "execute_result"
    }
   ],
   "source": [
    "df1=pd.read_table(\"https://raw.githubusercontent.com/Mounika-Kajjam/SummerInternship/master/data.csv\",sep=\";\",header=None)\n",
    "df1\n"
   ]
  },
  {
   "cell_type": "code",
   "execution_count": 3,
   "metadata": {},
   "outputs": [
    {
     "name": "stdout",
     "output_type": "stream",
     "text": [
      "columns: 1795 Rows: 6\n"
     ]
    }
   ],
   "source": [
    "print(\"columns:\",df1.shape[0],\"Rows:\",df1.shape[1])# coloumns"
   ]
  },
  {
   "cell_type": "code",
   "execution_count": 4,
   "metadata": {},
   "outputs": [
    {
     "name": "stdout",
     "output_type": "stream",
     "text": [
      "column names: Int64Index([0, 1, 2, 3, 4, 5], dtype='int64')\n"
     ]
    }
   ],
   "source": [
    "print(\"column names:\",df1.columns)"
   ]
  },
  {
   "cell_type": "code",
   "execution_count": null,
   "metadata": {},
   "outputs": [],
   "source": []
  },
  {
   "cell_type": "markdown",
   "metadata": {},
   "source": [
    "- what type of data you have \n",
    "- In the data if you have observed are there any missing values(NaN)\n"
   ]
  },
  {
   "cell_type": "code",
   "execution_count": 5,
   "metadata": {},
   "outputs": [
    {
     "data": {
      "text/plain": [
       "0    object\n",
       "1    object\n",
       "2    object\n",
       "3     int64\n",
       "4    object\n",
       "5    object\n",
       "dtype: object"
      ]
     },
     "execution_count": 5,
     "metadata": {},
     "output_type": "execute_result"
    }
   ],
   "source": [
    "df1.dtypes"
   ]
  },
  {
   "cell_type": "code",
   "execution_count": 6,
   "metadata": {},
   "outputs": [
    {
     "data": {
      "text/html": [
       "<div>\n",
       "<style scoped>\n",
       "    .dataframe tbody tr th:only-of-type {\n",
       "        vertical-align: middle;\n",
       "    }\n",
       "\n",
       "    .dataframe tbody tr th {\n",
       "        vertical-align: top;\n",
       "    }\n",
       "\n",
       "    .dataframe thead th {\n",
       "        text-align: right;\n",
       "    }\n",
       "</style>\n",
       "<table border=\"1\" class=\"dataframe\">\n",
       "  <thead>\n",
       "    <tr style=\"text-align: right;\">\n",
       "      <th></th>\n",
       "      <th>0</th>\n",
       "      <th>1</th>\n",
       "      <th>2</th>\n",
       "      <th>3</th>\n",
       "      <th>4</th>\n",
       "      <th>5</th>\n",
       "    </tr>\n",
       "  </thead>\n",
       "  <tbody>\n",
       "    <tr>\n",
       "      <td>0</td>\n",
       "      <td>False</td>\n",
       "      <td>False</td>\n",
       "      <td>False</td>\n",
       "      <td>False</td>\n",
       "      <td>False</td>\n",
       "      <td>False</td>\n",
       "    </tr>\n",
       "    <tr>\n",
       "      <td>1</td>\n",
       "      <td>False</td>\n",
       "      <td>False</td>\n",
       "      <td>False</td>\n",
       "      <td>False</td>\n",
       "      <td>False</td>\n",
       "      <td>False</td>\n",
       "    </tr>\n",
       "    <tr>\n",
       "      <td>2</td>\n",
       "      <td>False</td>\n",
       "      <td>False</td>\n",
       "      <td>False</td>\n",
       "      <td>False</td>\n",
       "      <td>False</td>\n",
       "      <td>False</td>\n",
       "    </tr>\n",
       "    <tr>\n",
       "      <td>3</td>\n",
       "      <td>False</td>\n",
       "      <td>False</td>\n",
       "      <td>False</td>\n",
       "      <td>False</td>\n",
       "      <td>False</td>\n",
       "      <td>False</td>\n",
       "    </tr>\n",
       "    <tr>\n",
       "      <td>4</td>\n",
       "      <td>False</td>\n",
       "      <td>False</td>\n",
       "      <td>False</td>\n",
       "      <td>False</td>\n",
       "      <td>False</td>\n",
       "      <td>False</td>\n",
       "    </tr>\n",
       "    <tr>\n",
       "      <td>...</td>\n",
       "      <td>...</td>\n",
       "      <td>...</td>\n",
       "      <td>...</td>\n",
       "      <td>...</td>\n",
       "      <td>...</td>\n",
       "      <td>...</td>\n",
       "    </tr>\n",
       "    <tr>\n",
       "      <td>1790</td>\n",
       "      <td>False</td>\n",
       "      <td>False</td>\n",
       "      <td>False</td>\n",
       "      <td>False</td>\n",
       "      <td>False</td>\n",
       "      <td>False</td>\n",
       "    </tr>\n",
       "    <tr>\n",
       "      <td>1791</td>\n",
       "      <td>False</td>\n",
       "      <td>False</td>\n",
       "      <td>False</td>\n",
       "      <td>False</td>\n",
       "      <td>False</td>\n",
       "      <td>False</td>\n",
       "    </tr>\n",
       "    <tr>\n",
       "      <td>1792</td>\n",
       "      <td>False</td>\n",
       "      <td>False</td>\n",
       "      <td>False</td>\n",
       "      <td>False</td>\n",
       "      <td>False</td>\n",
       "      <td>False</td>\n",
       "    </tr>\n",
       "    <tr>\n",
       "      <td>1793</td>\n",
       "      <td>False</td>\n",
       "      <td>False</td>\n",
       "      <td>False</td>\n",
       "      <td>False</td>\n",
       "      <td>False</td>\n",
       "      <td>False</td>\n",
       "    </tr>\n",
       "    <tr>\n",
       "      <td>1794</td>\n",
       "      <td>False</td>\n",
       "      <td>False</td>\n",
       "      <td>False</td>\n",
       "      <td>False</td>\n",
       "      <td>False</td>\n",
       "      <td>False</td>\n",
       "    </tr>\n",
       "  </tbody>\n",
       "</table>\n",
       "<p>1795 rows × 6 columns</p>\n",
       "</div>"
      ],
      "text/plain": [
       "          0      1      2      3      4      5\n",
       "0     False  False  False  False  False  False\n",
       "1     False  False  False  False  False  False\n",
       "2     False  False  False  False  False  False\n",
       "3     False  False  False  False  False  False\n",
       "4     False  False  False  False  False  False\n",
       "...     ...    ...    ...    ...    ...    ...\n",
       "1790  False  False  False  False  False  False\n",
       "1791  False  False  False  False  False  False\n",
       "1792  False  False  False  False  False  False\n",
       "1793  False  False  False  False  False  False\n",
       "1794  False  False  False  False  False  False\n",
       "\n",
       "[1795 rows x 6 columns]"
      ]
     },
     "execution_count": 6,
     "metadata": {},
     "output_type": "execute_result"
    }
   ],
   "source": [
    "df1.isnull()"
   ]
  },
  {
   "cell_type": "markdown",
   "metadata": {},
   "source": [
    "- print the datatype of each column\n",
    "- For each data type how many columns are there\n",
    "- Using describe function observe the different measures for numerical and categorical columns\n"
   ]
  },
  {
   "cell_type": "code",
   "execution_count": 24,
   "metadata": {},
   "outputs": [
    {
     "data": {
      "text/plain": [
       "object    5\n",
       "int64     1\n",
       "dtype: int64"
      ]
     },
     "execution_count": 24,
     "metadata": {},
     "output_type": "execute_result"
    }
   ],
   "source": [
    "df1.dtypes.value_counts()"
   ]
  },
  {
   "cell_type": "code",
   "execution_count": 12,
   "metadata": {},
   "outputs": [
    {
     "data": {
      "text/html": [
       "<div>\n",
       "<style scoped>\n",
       "    .dataframe tbody tr th:only-of-type {\n",
       "        vertical-align: middle;\n",
       "    }\n",
       "\n",
       "    .dataframe tbody tr th {\n",
       "        vertical-align: top;\n",
       "    }\n",
       "\n",
       "    .dataframe thead th {\n",
       "        text-align: right;\n",
       "    }\n",
       "</style>\n",
       "<table border=\"1\" class=\"dataframe\">\n",
       "  <thead>\n",
       "    <tr style=\"text-align: right;\">\n",
       "      <th></th>\n",
       "      <th>0</th>\n",
       "      <th>1</th>\n",
       "      <th>2</th>\n",
       "      <th>4</th>\n",
       "      <th>5</th>\n",
       "    </tr>\n",
       "  </thead>\n",
       "  <tbody>\n",
       "    <tr>\n",
       "      <td>count</td>\n",
       "      <td>1795</td>\n",
       "      <td>1795</td>\n",
       "      <td>1795</td>\n",
       "      <td>1795</td>\n",
       "      <td>1795</td>\n",
       "    </tr>\n",
       "    <tr>\n",
       "      <td>unique</td>\n",
       "      <td>1773</td>\n",
       "      <td>1</td>\n",
       "      <td>8</td>\n",
       "      <td>3</td>\n",
       "      <td>6</td>\n",
       "    </tr>\n",
       "    <tr>\n",
       "      <td>top</td>\n",
       "      <td>2018-01-01 03:10:36</td>\n",
       "      <td>read</td>\n",
       "      <td>country_2</td>\n",
       "      <td>Reddit</td>\n",
       "      <td>Asia</td>\n",
       "    </tr>\n",
       "    <tr>\n",
       "      <td>freq</td>\n",
       "      <td>3</td>\n",
       "      <td>1795</td>\n",
       "      <td>462</td>\n",
       "      <td>949</td>\n",
       "      <td>667</td>\n",
       "    </tr>\n",
       "  </tbody>\n",
       "</table>\n",
       "</div>"
      ],
      "text/plain": [
       "                          0     1          2       4     5\n",
       "count                  1795  1795       1795    1795  1795\n",
       "unique                 1773     1          8       3     6\n",
       "top     2018-01-01 03:10:36  read  country_2  Reddit  Asia\n",
       "freq                      3  1795        462     949   667"
      ]
     },
     "execution_count": 12,
     "metadata": {},
     "output_type": "execute_result"
    }
   ],
   "source": [
    "df2=df1.select_dtypes(include=[\"object\"])\n",
    "df2.describe() # categorical data"
   ]
  },
  {
   "cell_type": "code",
   "execution_count": 14,
   "metadata": {},
   "outputs": [
    {
     "data": {
      "text/html": [
       "<div>\n",
       "<style scoped>\n",
       "    .dataframe tbody tr th:only-of-type {\n",
       "        vertical-align: middle;\n",
       "    }\n",
       "\n",
       "    .dataframe tbody tr th {\n",
       "        vertical-align: top;\n",
       "    }\n",
       "\n",
       "    .dataframe thead th {\n",
       "        text-align: right;\n",
       "    }\n",
       "</style>\n",
       "<table border=\"1\" class=\"dataframe\">\n",
       "  <thead>\n",
       "    <tr style=\"text-align: right;\">\n",
       "      <th></th>\n",
       "      <th>3</th>\n",
       "    </tr>\n",
       "  </thead>\n",
       "  <tbody>\n",
       "    <tr>\n",
       "      <td>count</td>\n",
       "      <td>1.795000e+03</td>\n",
       "    </tr>\n",
       "    <tr>\n",
       "      <td>mean</td>\n",
       "      <td>2.458152e+09</td>\n",
       "    </tr>\n",
       "    <tr>\n",
       "      <td>std</td>\n",
       "      <td>5.183162e+02</td>\n",
       "    </tr>\n",
       "    <tr>\n",
       "      <td>min</td>\n",
       "      <td>2.458151e+09</td>\n",
       "    </tr>\n",
       "    <tr>\n",
       "      <td>25%</td>\n",
       "      <td>2.458152e+09</td>\n",
       "    </tr>\n",
       "    <tr>\n",
       "      <td>50%</td>\n",
       "      <td>2.458152e+09</td>\n",
       "    </tr>\n",
       "    <tr>\n",
       "      <td>75%</td>\n",
       "      <td>2.458153e+09</td>\n",
       "    </tr>\n",
       "    <tr>\n",
       "      <td>max</td>\n",
       "      <td>2.458153e+09</td>\n",
       "    </tr>\n",
       "  </tbody>\n",
       "</table>\n",
       "</div>"
      ],
      "text/plain": [
       "                  3\n",
       "count  1.795000e+03\n",
       "mean   2.458152e+09\n",
       "std    5.183162e+02\n",
       "min    2.458151e+09\n",
       "25%    2.458152e+09\n",
       "50%    2.458152e+09\n",
       "75%    2.458153e+09\n",
       "max    2.458153e+09"
      ]
     },
     "execution_count": 14,
     "metadata": {},
     "output_type": "execute_result"
    }
   ],
   "source": [
    "df3=df1.select_dtypes(exclude=[\"object\"])\n",
    "df3.describe() numerical data"
   ]
  },
  {
   "cell_type": "markdown",
   "metadata": {},
   "source": [
    "- Use the info function to get the detailed info of the dataframe\n",
    "-  Check for the duplicate values in all the columns\n",
    "-  Replace the value “South America” from country column with NaN and fill with mode of   the column\n",
    "- Check the count of categories being repeated in the source column.\n"
   ]
  },
  {
   "cell_type": "code",
   "execution_count": 15,
   "metadata": {},
   "outputs": [
    {
     "name": "stdout",
     "output_type": "stream",
     "text": [
      "<class 'pandas.core.frame.DataFrame'>\n",
      "RangeIndex: 1795 entries, 0 to 1794\n",
      "Data columns (total 6 columns):\n",
      "0    1795 non-null object\n",
      "1    1795 non-null object\n",
      "2    1795 non-null object\n",
      "3    1795 non-null int64\n",
      "4    1795 non-null object\n",
      "5    1795 non-null object\n",
      "dtypes: int64(1), object(5)\n",
      "memory usage: 84.3+ KB\n"
     ]
    }
   ],
   "source": [
    "df1.info()"
   ]
  },
  {
   "cell_type": "code",
   "execution_count": 16,
   "metadata": {},
   "outputs": [
    {
     "data": {
      "text/plain": [
       "<bound method DataFrame.info of                         0     1          2           3        4              5\n",
       "0     2018-01-01 00:01:01  read  country_7  2458151261      SEO  North America\n",
       "1     2018-01-01 00:03:20  read  country_7  2458151262      SEO  South America\n",
       "2     2018-01-01 00:04:01  read  country_7  2458151263  AdWords         Africa\n",
       "3     2018-01-01 00:04:02  read  country_7  2458151264  AdWords         Europe\n",
       "4     2018-01-01 00:05:03  read  country_8  2458151265   Reddit  North America\n",
       "...                   ...   ...        ...         ...      ...            ...\n",
       "1790  2018-01-01 23:57:14  read  country_2  2458153051  AdWords  North America\n",
       "1791  2018-01-01 23:58:33  read  country_8  2458153052      SEO           Asia\n",
       "1792  2018-01-01 23:59:36  read  country_6  2458153053   Reddit           Asia\n",
       "1793  2018-01-01 23:59:36  read  country_7  2458153054  AdWords         Europe\n",
       "1794  2018-01-01 23:59:38  read  country_5  2458153055   Reddit           Asia\n",
       "\n",
       "[1795 rows x 6 columns]>"
      ]
     },
     "execution_count": 16,
     "metadata": {},
     "output_type": "execute_result"
    }
   ],
   "source": [
    "df1.info"
   ]
  },
  {
   "cell_type": "code",
   "execution_count": 26,
   "metadata": {},
   "outputs": [
    {
     "data": {
      "text/plain": [
       "0       False\n",
       "1       False\n",
       "2       False\n",
       "3       False\n",
       "4       False\n",
       "        ...  \n",
       "1790    False\n",
       "1791    False\n",
       "1792    False\n",
       "1793    False\n",
       "1794    False\n",
       "Length: 1795, dtype: bool"
      ]
     },
     "execution_count": 26,
     "metadata": {},
     "output_type": "execute_result"
    }
   ],
   "source": [
    "df7=df1.duplicated()\n",
    "df7"
   ]
  },
  {
   "cell_type": "code",
   "execution_count": 20,
   "metadata": {},
   "outputs": [
    {
     "data": {
      "text/html": [
       "<div>\n",
       "<style scoped>\n",
       "    .dataframe tbody tr th:only-of-type {\n",
       "        vertical-align: middle;\n",
       "    }\n",
       "\n",
       "    .dataframe tbody tr th {\n",
       "        vertical-align: top;\n",
       "    }\n",
       "\n",
       "    .dataframe thead th {\n",
       "        text-align: right;\n",
       "    }\n",
       "</style>\n",
       "<table border=\"1\" class=\"dataframe\">\n",
       "  <thead>\n",
       "    <tr style=\"text-align: right;\">\n",
       "      <th></th>\n",
       "      <th>0</th>\n",
       "      <th>1</th>\n",
       "      <th>2</th>\n",
       "      <th>3</th>\n",
       "      <th>4</th>\n",
       "      <th>5</th>\n",
       "    </tr>\n",
       "  </thead>\n",
       "  <tbody>\n",
       "    <tr>\n",
       "      <td>0</td>\n",
       "      <td>2018-01-01 00:01:01</td>\n",
       "      <td>read</td>\n",
       "      <td>country_7</td>\n",
       "      <td>2458151261</td>\n",
       "      <td>SEO</td>\n",
       "      <td>North America</td>\n",
       "    </tr>\n",
       "    <tr>\n",
       "      <td>1</td>\n",
       "      <td>2018-01-01 00:03:20</td>\n",
       "      <td>read</td>\n",
       "      <td>country_7</td>\n",
       "      <td>2458151262</td>\n",
       "      <td>SEO</td>\n",
       "      <td>NaN</td>\n",
       "    </tr>\n",
       "    <tr>\n",
       "      <td>2</td>\n",
       "      <td>2018-01-01 00:04:01</td>\n",
       "      <td>read</td>\n",
       "      <td>country_7</td>\n",
       "      <td>2458151263</td>\n",
       "      <td>AdWords</td>\n",
       "      <td>Africa</td>\n",
       "    </tr>\n",
       "    <tr>\n",
       "      <td>3</td>\n",
       "      <td>2018-01-01 00:04:02</td>\n",
       "      <td>read</td>\n",
       "      <td>country_7</td>\n",
       "      <td>2458151264</td>\n",
       "      <td>AdWords</td>\n",
       "      <td>Europe</td>\n",
       "    </tr>\n",
       "    <tr>\n",
       "      <td>4</td>\n",
       "      <td>2018-01-01 00:05:03</td>\n",
       "      <td>read</td>\n",
       "      <td>country_8</td>\n",
       "      <td>2458151265</td>\n",
       "      <td>Reddit</td>\n",
       "      <td>North America</td>\n",
       "    </tr>\n",
       "    <tr>\n",
       "      <td>...</td>\n",
       "      <td>...</td>\n",
       "      <td>...</td>\n",
       "      <td>...</td>\n",
       "      <td>...</td>\n",
       "      <td>...</td>\n",
       "      <td>...</td>\n",
       "    </tr>\n",
       "    <tr>\n",
       "      <td>1790</td>\n",
       "      <td>2018-01-01 23:57:14</td>\n",
       "      <td>read</td>\n",
       "      <td>country_2</td>\n",
       "      <td>2458153051</td>\n",
       "      <td>AdWords</td>\n",
       "      <td>North America</td>\n",
       "    </tr>\n",
       "    <tr>\n",
       "      <td>1791</td>\n",
       "      <td>2018-01-01 23:58:33</td>\n",
       "      <td>read</td>\n",
       "      <td>country_8</td>\n",
       "      <td>2458153052</td>\n",
       "      <td>SEO</td>\n",
       "      <td>Asia</td>\n",
       "    </tr>\n",
       "    <tr>\n",
       "      <td>1792</td>\n",
       "      <td>2018-01-01 23:59:36</td>\n",
       "      <td>read</td>\n",
       "      <td>country_6</td>\n",
       "      <td>2458153053</td>\n",
       "      <td>Reddit</td>\n",
       "      <td>Asia</td>\n",
       "    </tr>\n",
       "    <tr>\n",
       "      <td>1793</td>\n",
       "      <td>2018-01-01 23:59:36</td>\n",
       "      <td>read</td>\n",
       "      <td>country_7</td>\n",
       "      <td>2458153054</td>\n",
       "      <td>AdWords</td>\n",
       "      <td>Europe</td>\n",
       "    </tr>\n",
       "    <tr>\n",
       "      <td>1794</td>\n",
       "      <td>2018-01-01 23:59:38</td>\n",
       "      <td>read</td>\n",
       "      <td>country_5</td>\n",
       "      <td>2458153055</td>\n",
       "      <td>Reddit</td>\n",
       "      <td>Asia</td>\n",
       "    </tr>\n",
       "  </tbody>\n",
       "</table>\n",
       "<p>1795 rows × 6 columns</p>\n",
       "</div>"
      ],
      "text/plain": [
       "                        0     1          2           3        4              5\n",
       "0     2018-01-01 00:01:01  read  country_7  2458151261      SEO  North America\n",
       "1     2018-01-01 00:03:20  read  country_7  2458151262      SEO            NaN\n",
       "2     2018-01-01 00:04:01  read  country_7  2458151263  AdWords         Africa\n",
       "3     2018-01-01 00:04:02  read  country_7  2458151264  AdWords         Europe\n",
       "4     2018-01-01 00:05:03  read  country_8  2458151265   Reddit  North America\n",
       "...                   ...   ...        ...         ...      ...            ...\n",
       "1790  2018-01-01 23:57:14  read  country_2  2458153051  AdWords  North America\n",
       "1791  2018-01-01 23:58:33  read  country_8  2458153052      SEO           Asia\n",
       "1792  2018-01-01 23:59:36  read  country_6  2458153053   Reddit           Asia\n",
       "1793  2018-01-01 23:59:36  read  country_7  2458153054  AdWords         Europe\n",
       "1794  2018-01-01 23:59:38  read  country_5  2458153055   Reddit           Asia\n",
       "\n",
       "[1795 rows x 6 columns]"
      ]
     },
     "execution_count": 20,
     "metadata": {},
     "output_type": "execute_result"
    }
   ],
   "source": [
    "df5=df1.replace({5:\"South America\"},np.nan)\n",
    "df5"
   ]
  },
  {
   "cell_type": "code",
   "execution_count": 30,
   "metadata": {},
   "outputs": [
    {
     "data": {
      "text/plain": [
       "False    1795\n",
       "dtype: int64"
      ]
     },
     "execution_count": 30,
     "metadata": {},
     "output_type": "execute_result"
    }
   ],
   "source": [
    "df7.value_counts(False)"
   ]
  },
  {
   "cell_type": "code",
   "execution_count": null,
   "metadata": {},
   "outputs": [],
   "source": []
  }
 ],
 "metadata": {
  "kernelspec": {
   "display_name": "Python 3",
   "language": "python",
   "name": "python3"
  },
  "language_info": {
   "codemirror_mode": {
    "name": "ipython",
    "version": 3
   },
   "file_extension": ".py",
   "mimetype": "text/x-python",
   "name": "python",
   "nbconvert_exporter": "python",
   "pygments_lexer": "ipython3",
   "version": "3.7.4"
  }
 },
 "nbformat": 4,
 "nbformat_minor": 2
}

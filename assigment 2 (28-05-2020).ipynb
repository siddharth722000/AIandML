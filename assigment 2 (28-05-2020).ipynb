{
 "cells": [
  {
   "cell_type": "markdown",
   "metadata": {},
   "source": [
    "# cse-221710305019-siddharth"
   ]
  },
  {
   "cell_type": "code",
   "execution_count": 6,
   "metadata": {},
   "outputs": [
    {
     "name": "stdout",
     "output_type": "stream",
     "text": [
      "enter stringsiddu@\n",
      "vowels: 2 consonants 3 special characters 1\n"
     ]
    }
   ],
   "source": [
    "#1.count no of vowels ,consonants and spevial characters\n",
    "str=input(\"enter string\")\n",
    "v=0\n",
    "c=0\n",
    "s=0\n",
    "for i in str:\n",
    "    if(i.isalpha()):\n",
    "        if(i=='a' or i=='e' or i=='i' or i=='o' or i=='u'):\n",
    "            v+=1\n",
    "        else:        \n",
    "            c+=1\n",
    "    else:\n",
    "         s+=1\n",
    "print(\"vowels:\",v,\"consonants\",c,\"special characters\",s)                "
   ]
  },
  {
   "cell_type": "code",
   "execution_count": 8,
   "metadata": {},
   "outputs": [
    {
     "name": "stdout",
     "output_type": "stream",
     "text": [
      "enter string:abbaaccbbaa\n",
      "2\n"
     ]
    }
   ],
   "source": [
    "#2 count the no of pairs of a in given string\n",
    "str = input(\"enter string:\")\n",
    "p=0\n",
    "c=0\n",
    "for i in str:\n",
    "    if i=='a' and c==0:\n",
    "        c=1\n",
    "    elif i=='a' and c==1:\n",
    "        c=0\n",
    "        p=p+1\n",
    "    else:\n",
    "        c=0\n",
    "print(p)"
   ]
  },
  {
   "cell_type": "code",
   "execution_count": 11,
   "metadata": {},
   "outputs": [
    {
     "name": "stdout",
     "output_type": "stream",
     "text": [
      "enter((((()()()))))()\n",
      "8\n"
     ]
    }
   ],
   "source": [
    "#3 test case 1 and test case2\n",
    "\n",
    "\n",
    "str=input(\"enter\")\n",
    "o=0\n",
    "c=0\n",
    "for i in str:\n",
    "    if i=='(':\n",
    "        o=o+1\n",
    "    elif i==')':\n",
    "        c=c+1\n",
    "if(o==c):\n",
    "    print(o)\n",
    "else:\n",
    "    print(\"un-balanced\")\n",
    "       "
   ]
  },
  {
   "cell_type": "code",
   "execution_count": 2,
   "metadata": {},
   "outputs": [
    {
     "name": "stdout",
     "output_type": "stream",
     "text": [
      "1\n",
      "100\n",
      "18\n"
     ]
    }
   ],
   "source": [
    "#read the input as two limits and print the output as palindrome count between tghe\n",
    "\n",
    "\n",
    "l=int(input())\n",
    "u=int(input())\n",
    "c=0\n",
    "for i in range(l,u+1):\n",
    "    s=str(i)\n",
    "    if s==s[::-1]:\n",
    "        c=c+1\n",
    "print(c)        "
   ]
  },
  {
   "cell_type": "code",
   "execution_count": 12,
   "metadata": {},
   "outputs": [
    {
     "name": "stdout",
     "output_type": "stream",
     "text": [
      "enter string:orange\n",
      "29puboif\n"
     ]
    }
   ],
   "source": [
    "#6 input:orange  +  output : puboiF\n",
    "\n",
    "s=input(\"enter string:\")\n",
    "\n",
    "for i in s:\n",
    "    if i=='a' or i=='e' or i=='i' or i=='o' or i==\"u\":\n",
    "        c=c+chr(ord(i)+1)\n",
    "    else:\n",
    "        t=ord(i)\n",
    "        while chr(t) not in 'aeiou':\n",
    "            t=t+1\n",
    "        c=c+chr(t)\n",
    "print(c)        "
   ]
  },
  {
   "cell_type": "code",
   "execution_count": 7,
   "metadata": {},
   "outputs": [
    {
     "name": "stdout",
     "output_type": "stream",
     "text": [
      "enter string:applil23cation456\n",
      "sum= 20\n"
     ]
    }
   ],
   "source": [
    "#7 display sum of digits as the output\n",
    "   \n",
    "s=input(\"enter string:\")\n",
    "sum=0\n",
    "for i in s:\n",
    "    if (i.isdigit()):\n",
    "        sum=sum+int(i)\n",
    "print(\"sum=\",sum)        "
   ]
  },
  {
   "cell_type": "code",
   "execution_count": 8,
   "metadata": {},
   "outputs": [
    {
     "name": "stdout",
     "output_type": "stream",
     "text": [
      "enter score:0.98\n",
      "A\n"
     ]
    }
   ],
   "source": [
    "#8 write a program tp prompt for a source between 0.0 and 1.0 .if the scoreis cost is out of range and rpint error\n",
    "\n",
    "\n",
    "\n",
    "f=float(input(\"enter score:\"))\n",
    "if f>1.0 or f<0.0:\n",
    "    print(\"error\")\n",
    "elif f>=0.9:\n",
    "    print(\"A\")\n",
    "elif f>=0.8:\n",
    "    print(\"B\")\n",
    "elif f>=0.7:\n",
    "    print(\"C\")\n",
    "elif f>=0.6:\n",
    "    print(\"D\")\n",
    "else:\n",
    "    print(\"F\")\n",
    "    "
   ]
  },
  {
   "cell_type": "code",
   "execution_count": 9,
   "metadata": {},
   "outputs": [
    {
     "name": "stdout",
     "output_type": "stream",
     "text": [
      "1 \n",
      "\n",
      "2 \n",
      "\n",
      "fizz\n",
      "4 \n",
      "\n",
      "buzz\n",
      "fizz\n",
      "7 \n",
      "\n",
      "8 \n",
      "\n",
      "fizz\n",
      "buzz\n",
      "11 \n",
      "\n",
      "fizz\n",
      "13 \n",
      "\n",
      "14 \n",
      "\n",
      "fizzbuzz\n",
      "16 \n",
      "\n",
      "17 \n",
      "\n",
      "fizz\n",
      "19 \n",
      "\n",
      "buzz\n",
      "fizz\n",
      "22 \n",
      "\n",
      "23 \n",
      "\n",
      "fizz\n",
      "buzz\n",
      "26 \n",
      "\n",
      "fizz\n",
      "28 \n",
      "\n",
      "29 \n",
      "\n",
      "fizzbuzz\n",
      "31 \n",
      "\n",
      "32 \n",
      "\n",
      "fizz\n",
      "34 \n",
      "\n",
      "buzz\n",
      "fizz\n",
      "37 \n",
      "\n",
      "38 \n",
      "\n",
      "fizz\n",
      "buzz\n",
      "41 \n",
      "\n",
      "fizz\n",
      "43 \n",
      "\n",
      "44 \n",
      "\n",
      "fizzbuzz\n",
      "46 \n",
      "\n",
      "47 \n",
      "\n",
      "fizz\n",
      "49 \n",
      "\n",
      "buzz\n"
     ]
    }
   ],
   "source": [
    "#9 program which iteratres the intregers from 1 to 50\n",
    "  \n",
    "for i in range(1,51):\n",
    "    if i%3==0 and i%5==0:\n",
    "        print(\"fizzbuzz\")\n",
    "    elif i%3==0:\n",
    "        print(\"fizz\")\n",
    "    elif i%5==0:\n",
    "        print(\"buzz\")\n",
    "    else:\n",
    "        print(i,\"\\n\")\n",
    "    "
   ]
  },
  {
   "cell_type": "code",
   "execution_count": 11,
   "metadata": {},
   "outputs": [
    {
     "name": "stdout",
     "output_type": "stream",
     "text": [
      "input first number:26\n",
      "input second number:15\n",
      "input third number:29\n",
      "the median is 26\n"
     ]
    }
   ],
   "source": [
    "#10 write a program to find the median of three values\n",
    " \n",
    "a=(input(\"input first number:\"))\n",
    "b=(input(\"input second number:\"))\n",
    "c=(input(\"input third number:\"))\n",
    "if a>b:\n",
    "    if a<c:\n",
    "        median = a\n",
    "    elif b>c:\n",
    "        median = b\n",
    "    else:\n",
    "        median = c\n",
    "else:\n",
    "    if a>c:\n",
    "        median = a\n",
    "    elif b<c:\n",
    "        median = b\n",
    "    else:\n",
    "        median = c\n",
    "        \n",
    "print(\"the median is\",median)"
   ]
  },
  {
   "cell_type": "code",
   "execution_count": null,
   "metadata": {},
   "outputs": [],
   "source": []
  },
  {
   "cell_type": "code",
   "execution_count": null,
   "metadata": {},
   "outputs": [],
   "source": []
  }
 ],
 "metadata": {
  "kernelspec": {
   "display_name": "Python 3",
   "language": "python",
   "name": "python3"
  },
  "language_info": {
   "codemirror_mode": {
    "name": "ipython",
    "version": 3
   },
   "file_extension": ".py",
   "mimetype": "text/x-python",
   "name": "python",
   "nbconvert_exporter": "python",
   "pygments_lexer": "ipython3",
   "version": "3.7.4"
  }
 },
 "nbformat": 4,
 "nbformat_minor": 2
}
